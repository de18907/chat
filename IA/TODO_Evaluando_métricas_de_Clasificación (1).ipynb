{
 "cells": [
  {
   "cell_type": "markdown",
   "metadata": {
    "colab_type": "text",
    "id": "PGm-5t6AmF7Q"
   },
   "source": [
    "## Introducción a Aprendizaje Automatico\n",
    "Recopilado y Traducido por Luis Martinez para Diplomado de Inteligencia Artificial en ITLA. Referencia de:  [Kevin Markham](https://github.com/mpfrush/Python-Scikit-Learn-Exercises/blob/master/09_classification_metrics.ipynb) "
   ]
  },
  {
   "cell_type": "markdown",
   "metadata": {
    "colab_type": "text",
    "id": "FR4lFh6dMtp5"
   },
   "source": [
    "## Requerimientos\n",
    "- Acceso a los cuadernos\n",
    "\n",
    "### Jupyter Notebook\n",
    "- Instalar Jupyter en PC o\n",
    "- Correr Colab en Google Drive\n",
    "\n",
    "### Instalación de Jupyter en PC\n",
    "- Instalar Anaconda\n",
    "- Si instaló Anaconda, debe tener ya Jupyter.\n",
    "- Usar pip install. \n",
    "  - \"python3 -m pip install jupyter\" para Python 3\n",
    "  - \"python -m pip install jupyter\" para Python 2\n",
    "Pueden acceder a: https://jupyter.org/install\n",
    "\n",
    "### Uso de Google Colab\n",
    "- Tener cuenta de Google\n",
    "- Acceder a su Google Drive y crear un cuaderno"
   ]
  },
  {
   "cell_type": "markdown",
   "metadata": {
    "colab_type": "text",
    "id": "oWWv1O0453-3"
   },
   "source": [
    "# Evaluando modelos de Clasificación"
   ]
  },
  {
   "cell_type": "markdown",
   "metadata": {
    "colab_type": "text",
    "id": "goOYL4rM53-4"
   },
   "source": [
    "## Agenda\n",
    "\n",
    "- ¿Cuál es el propósito de **evaluación de modelo**, y cuáles son algunos procedimientos de evaluación comunes?\n",
    "- ¿Cuál es el uso de **precisión de clasificación** y cuáles son sus limitaciones?\n",
    "- ¿Cómo describe una **matriz de confusión** el rendimiento de un clasificador?\n",
    "- ¿Qué **métricas** se pueden calcular a partir de una matriz de confusión?"
   ]
  },
  {
   "cell_type": "markdown",
   "metadata": {
    "colab_type": "text",
    "id": "zn_-5EvR53-5"
   },
   "source": [
    "## Revisión de la evaluación del modelo\n",
    "\n",
    "- Necesita una forma de elegir entre modelos: diferentes tipos de modelos, parámetros de ajuste y características\n",
    "- Utilice un **procedimiento de evaluación del modelo** para estimar qué tan bien se generalizará un modelo a los datos fuera de la muestra\n",
    "- Requiere una **métrica de evaluación del modelo** para cuantificar el rendimiento del modelo"
   ]
  },
  {
   "cell_type": "markdown",
   "metadata": {
    "colab_type": "text",
    "id": "b3WlWklE53-6"
   },
   "source": [
    " ### Procedimientos de evaluación del modelo\n",
    "\n",
    "1. **Entrenamiento y pruebas en los mismos datos**\n",
    "     - Recompensa modelos demasiado complejos que \"sobreajustan\" los datos de entrenamiento y no necesariamente generalizan\n",
    "2. **Tren / prueba dividida**\n",
    "     - Divida el conjunto de datos en dos partes, para que el modelo pueda ser entrenado y probado en diferentes datos\n",
    "     - Mejor estimación del rendimiento fuera de la muestra, pero sigue siendo una estimación de \"alta varianza\"\n",
    "     - Útil debido a su velocidad, simplicidad y flexibilidad.\n",
    "3. **Validación cruzada K-fold**\n",
    "     - Cree sistemáticamente divisiones de tren / prueba \"K\" y promedie los resultados juntos\n",
    "     - Mejor estimación del rendimiento fuera de la muestra.\n",
    "     - Corre \"K\" más lento que la división de tren / prueba"
   ]
  },
  {
   "cell_type": "markdown",
   "metadata": {
    "colab_type": "text",
    "id": "JDEVklj353-6"
   },
   "source": [
    "### Métricas de evaluación del modelo\n",
    "\n",
    "- **Problemas de regresión:** Error absoluto medio, error cuadrado medio, error cuadrado medio raíz\n",
    "- **Problemas de clasificación:** Precisión de clasificación"
   ]
  },
  {
   "cell_type": "markdown",
   "metadata": {
    "colab_type": "text",
    "id": "DqgGpOPb53-7"
   },
   "source": [
    "## Precisión de Clasificación\n",
    "\n",
    "[Pima Indian Diabetes dataset](https://archive.ics.uci.edu/ml/datasets/Pima+Indians+Diabetes) del  UCI Machine Learning Repository"
   ]
  },
  {
   "cell_type": "code",
   "execution_count": 7,
   "metadata": {
    "colab": {},
    "colab_type": "code",
    "id": "XyD_f0Pj53-7"
   },
   "outputs": [],
   "source": [
    "# Leer datos a Pandas\n",
    "import pandas as pd\n",
    "url = 'http://www.sharecsv.com/dl/72b2985c5ba652e174816867ea99abce/pima-indians-diabetes.csv'\n",
    "col_names = ['pregnant', 'glucose', 'bp', 'skin', 'insulin', 'bmi', 'pedigree', 'age', 'label']\n",
    "pima = pd.read_csv(url, header=None, names=col_names)"
   ]
  },
  {
   "cell_type": "code",
   "execution_count": 15,
   "metadata": {
    "colab": {},
    "colab_type": "code",
    "id": "8Cth5BYA53--"
   },
   "outputs": [
    {
     "data": {
      "text/html": [
       "<div>\n",
       "<style scoped>\n",
       "    .dataframe tbody tr th:only-of-type {\n",
       "        vertical-align: middle;\n",
       "    }\n",
       "\n",
       "    .dataframe tbody tr th {\n",
       "        vertical-align: top;\n",
       "    }\n",
       "\n",
       "    .dataframe thead th {\n",
       "        text-align: right;\n",
       "    }\n",
       "</style>\n",
       "<table border=\"1\" class=\"dataframe\">\n",
       "  <thead>\n",
       "    <tr style=\"text-align: right;\">\n",
       "      <th></th>\n",
       "      <th>pregnant</th>\n",
       "      <th>glucose</th>\n",
       "      <th>bp</th>\n",
       "      <th>skin</th>\n",
       "      <th>insulin</th>\n",
       "      <th>bmi</th>\n",
       "      <th>pedigree</th>\n",
       "      <th>age</th>\n",
       "      <th>label</th>\n",
       "    </tr>\n",
       "  </thead>\n",
       "  <tbody>\n",
       "    <tr>\n",
       "      <th>0</th>\n",
       "      <td>6</td>\n",
       "      <td>148</td>\n",
       "      <td>72</td>\n",
       "      <td>35</td>\n",
       "      <td>0</td>\n",
       "      <td>33.6</td>\n",
       "      <td>0.627</td>\n",
       "      <td>50</td>\n",
       "      <td>1</td>\n",
       "    </tr>\n",
       "    <tr>\n",
       "      <th>1</th>\n",
       "      <td>1</td>\n",
       "      <td>85</td>\n",
       "      <td>66</td>\n",
       "      <td>29</td>\n",
       "      <td>0</td>\n",
       "      <td>26.6</td>\n",
       "      <td>0.351</td>\n",
       "      <td>31</td>\n",
       "      <td>0</td>\n",
       "    </tr>\n",
       "    <tr>\n",
       "      <th>2</th>\n",
       "      <td>8</td>\n",
       "      <td>183</td>\n",
       "      <td>64</td>\n",
       "      <td>0</td>\n",
       "      <td>0</td>\n",
       "      <td>23.3</td>\n",
       "      <td>0.672</td>\n",
       "      <td>32</td>\n",
       "      <td>1</td>\n",
       "    </tr>\n",
       "    <tr>\n",
       "      <th>3</th>\n",
       "      <td>1</td>\n",
       "      <td>89</td>\n",
       "      <td>66</td>\n",
       "      <td>23</td>\n",
       "      <td>94</td>\n",
       "      <td>28.1</td>\n",
       "      <td>0.167</td>\n",
       "      <td>21</td>\n",
       "      <td>0</td>\n",
       "    </tr>\n",
       "    <tr>\n",
       "      <th>4</th>\n",
       "      <td>0</td>\n",
       "      <td>137</td>\n",
       "      <td>40</td>\n",
       "      <td>35</td>\n",
       "      <td>168</td>\n",
       "      <td>43.1</td>\n",
       "      <td>2.288</td>\n",
       "      <td>33</td>\n",
       "      <td>1</td>\n",
       "    </tr>\n",
       "  </tbody>\n",
       "</table>\n",
       "</div>"
      ],
      "text/plain": [
       "   pregnant  glucose  bp  skin  insulin   bmi  pedigree  age  label\n",
       "0         6      148  72    35        0  33.6     0.627   50      1\n",
       "1         1       85  66    29        0  26.6     0.351   31      0\n",
       "2         8      183  64     0        0  23.3     0.672   32      1\n",
       "3         1       89  66    23       94  28.1     0.167   21      0\n",
       "4         0      137  40    35      168  43.1     2.288   33      1"
      ]
     },
     "execution_count": 15,
     "metadata": {},
     "output_type": "execute_result"
    }
   ],
   "source": [
    "# TODO: Imprimir los primeros 5 objetos\n",
    "pima.head()"
   ]
  },
  {
   "cell_type": "markdown",
   "metadata": {
    "colab_type": "text",
    "id": "a8b3ADOB53_B"
   },
   "source": [
    "**Pregunta:** ¿Podemos predecir el estado de diabetes de un paciente dadas sus mediciones de salud?"
   ]
  },
  {
   "cell_type": "code",
   "execution_count": 32,
   "metadata": {
    "colab": {},
    "colab_type": "code",
    "id": "FPdQkMyY53_C"
   },
   "outputs": [],
   "source": [
    "# TODO: Define X & y\n",
    "feature_cols = ['pregnant', 'insulin', 'bmi', 'age']\n",
    "X = pima[feature_cols]\n",
    "y = pima.label"
   ]
  },
  {
   "cell_type": "code",
   "execution_count": 33,
   "metadata": {
    "colab": {},
    "colab_type": "code",
    "id": "xNQrDnk253_E"
   },
   "outputs": [],
   "source": [
    "# TODO: Divide X & y en conjuntos de entrenamiento y prueba\n",
    "from sklearn.model_selection import train_test_split\n",
    "X_train, X_test, y_train, y_test = train_test_split(X, y, random_state=0)"
   ]
  },
  {
   "cell_type": "code",
   "execution_count": 34,
   "metadata": {
    "colab": {},
    "colab_type": "code",
    "id": "SLmO459a53_F"
   },
   "outputs": [
    {
     "name": "stderr",
     "output_type": "stream",
     "text": [
      "/home/sergio/anaconda3/lib/python3.7/site-packages/sklearn/linear_model/logistic.py:432: FutureWarning: Default solver will be changed to 'lbfgs' in 0.22. Specify a solver to silence this warning.\n",
      "  FutureWarning)\n"
     ]
    },
    {
     "data": {
      "text/plain": [
       "LogisticRegression(C=1.0, class_weight=None, dual=False, fit_intercept=True,\n",
       "                   intercept_scaling=1, l1_ratio=None, max_iter=100,\n",
       "                   multi_class='warn', n_jobs=None, penalty='l2',\n",
       "                   random_state=None, solver='warn', tol=0.0001, verbose=0,\n",
       "                   warm_start=False)"
      ]
     },
     "execution_count": 34,
     "metadata": {},
     "output_type": "execute_result"
    }
   ],
   "source": [
    "# TODO: Importa el modelo a usar (LogisticRegression), validar a que modulo pertenece de sklearn\n",
    "from sklearn.linear_model import LogisticRegression\n",
    "logreg = LogisticRegression()\n",
    "\n",
    "# TODO: Entrena un modelo de regresión logística en el conjunto de entrenamiento\n",
    "logreg.fit(X_train, y_train)"
   ]
  },
  {
   "cell_type": "code",
   "execution_count": 39,
   "metadata": {
    "colab": {},
    "colab_type": "code",
    "id": "NMXmipH553_H"
   },
   "outputs": [],
   "source": [
    "# TODO: Hacer predicciones de clase para el conjunto de pruebas\n",
    "y_pred_class = logreg.predict(X_test)"
   ]
  },
  {
   "cell_type": "markdown",
   "metadata": {
    "colab_type": "text",
    "id": "qMZMx6Sk53_J"
   },
   "source": [
    "**Precisión de clasificación:** porcentaje de predicciones correctas"
   ]
  },
  {
   "cell_type": "code",
   "execution_count": 40,
   "metadata": {
    "colab": {},
    "colab_type": "code",
    "id": "TxSKRzUT53_K"
   },
   "outputs": [
    {
     "name": "stdout",
     "output_type": "stream",
     "text": [
      "0.6927083333333334\n"
     ]
    }
   ],
   "source": [
    "# Calcular precisión\n",
    "# TODO: Importar clase de métricas de sklearn\n",
    "from sklearn import metrics\n",
    "print(metrics.accuracy_score(y_test, y_pred_class))"
   ]
  },
  {
   "cell_type": "markdown",
   "metadata": {
    "colab_type": "text",
    "id": "X8vBITpD53_N"
   },
   "source": [
    "**Precisión nula:** precisión que podría lograrse prediciendo siempre la clase más frecuente"
   ]
  },
  {
   "cell_type": "code",
   "execution_count": 41,
   "metadata": {
    "colab": {},
    "colab_type": "code",
    "id": "UKQiGCa853_N"
   },
   "outputs": [
    {
     "data": {
      "text/plain": [
       "0    130\n",
       "1     62\n",
       "Name: label, dtype: int64"
      ]
     },
     "execution_count": 41,
     "metadata": {},
     "output_type": "execute_result"
    }
   ],
   "source": [
    "# Examinar la distribución de clase del conjunto de pruebas (usando un método de la serie Pandas)\n",
    "y_test.value_counts()"
   ]
  },
  {
   "cell_type": "code",
   "execution_count": 42,
   "metadata": {
    "colab": {},
    "colab_type": "code",
    "id": "SNPTSJVz53_P"
   },
   "outputs": [
    {
     "data": {
      "text/plain": [
       "0.3229166666666667"
      ]
     },
     "execution_count": 42,
     "metadata": {},
     "output_type": "execute_result"
    }
   ],
   "source": [
    "# Calcular porcentaje de unos\n",
    "y_test.mean()"
   ]
  },
  {
   "cell_type": "code",
   "execution_count": 43,
   "metadata": {
    "colab": {},
    "colab_type": "code",
    "id": "klWYOlP553_R"
   },
   "outputs": [
    {
     "data": {
      "text/plain": [
       "0.6770833333333333"
      ]
     },
     "execution_count": 43,
     "metadata": {},
     "output_type": "execute_result"
    }
   ],
   "source": [
    "# Calcular porcentaje de ceros\n",
    "1 - y_test.mean()"
   ]
  },
  {
   "cell_type": "code",
   "execution_count": 44,
   "metadata": {
    "colab": {},
    "colab_type": "code",
    "id": "JKG6zlY853_T"
   },
   "outputs": [
    {
     "data": {
      "text/plain": [
       "0.6770833333333333"
      ]
     },
     "execution_count": 44,
     "metadata": {},
     "output_type": "execute_result"
    }
   ],
   "source": [
    "# Calcular precisión nula (para problemas de clasificación binaria codificados como 0/1)\n",
    "max(y_test.mean(), 1 - y_test.mean())"
   ]
  },
  {
   "cell_type": "code",
   "execution_count": 45,
   "metadata": {
    "colab": {},
    "colab_type": "code",
    "id": "xdXVXaBi53_V"
   },
   "outputs": [
    {
     "data": {
      "text/plain": [
       "0    0.677083\n",
       "Name: label, dtype: float64"
      ]
     },
     "execution_count": 45,
     "metadata": {},
     "output_type": "execute_result"
    }
   ],
   "source": [
    "# Calcular la precisión nula (para problemas de clasificación de varias clases)\n",
    "y_test.value_counts().head(1) / len(y_test)"
   ]
  },
  {
   "cell_type": "markdown",
   "metadata": {
    "colab_type": "text",
    "id": "3gzYxYg153_X"
   },
   "source": [
    "Comparando los valores de respuesta/clases **verdadero** y **pronosticado**"
   ]
  },
  {
   "cell_type": "code",
   "execution_count": 46,
   "metadata": {
    "colab": {},
    "colab_type": "code",
    "id": "cZy5Oqvv53_X"
   },
   "outputs": [
    {
     "name": "stdout",
     "output_type": "stream",
     "text": [
      "True: [1 0 0 1 0 0 1 1 0 0 1 1 0 0 0 0 1 0 0 0 1 1 0 0 0]\n",
      "Pred: [0 0 0 0 0 0 0 1 0 1 0 1 0 0 0 0 0 0 0 0 0 0 0 0 0]\n"
     ]
    }
   ],
   "source": [
    "# Imprime las primeras 25 respuestas verdaderas y pronosticadas\n",
    "print('True:', y_test.values[0:25])\n",
    "print('Pred:', y_pred_class[0:25])"
   ]
  },
  {
   "cell_type": "markdown",
   "metadata": {
    "colab_type": "text",
    "id": "dRYFc2QR53_Z"
   },
   "source": [
    "**Conclusión:**\n",
    "\n",
    "- La precisión de clasificación es la **métrica de clasificación más fácil de entender**\n",
    "- Pero, no le dice la **distribución subyacente** de los valores de respuesta\n",
    "- Y, no le dice qué **tipos de errores** está haciendo su clasificador"
   ]
  },
  {
   "cell_type": "markdown",
   "metadata": {
    "colab_type": "text",
    "id": "oTkEeXiO53_a"
   },
   "source": [
    "## Matriz de Confusión\n",
    "\n",
    "Tabla que describe el rendimiento de un modelo de clasificación."
   ]
  },
  {
   "cell_type": "code",
   "execution_count": 47,
   "metadata": {
    "colab": {},
    "colab_type": "code",
    "id": "0GsRcwhQ53_a"
   },
   "outputs": [
    {
     "name": "stdout",
     "output_type": "stream",
     "text": [
      "[[118  12]\n",
      " [ 47  15]]\n"
     ]
    }
   ],
   "source": [
    "# IMPORTANTE: el primer argumento son valores verdaderos, el segundo argumento son valores predichos\n",
    "\n",
    "# TODO: Especificar metodo para obtener la Matriz de Confusión\n",
    "print(metrics.confusion_matrix(y_test, y_pred_class))"
   ]
  },
  {
   "cell_type": "markdown",
   "metadata": {
    "colab_type": "text",
    "id": "4mibeuli53_c"
   },
   "source": [
    "![Small confusion matrix](https://github.com/mpfrush/Python-Scikit-Learn-Exercises/raw/0e26828604b503f0d66a5966de1dce57e5e88c2a/images/09_confusion_matrix_1.png)"
   ]
  },
  {
   "cell_type": "markdown",
   "metadata": {
    "colab_type": "text",
    "id": "4Cuv47oB53_j"
   },
   "source": [
    "- Cada observación en el conjunto de prueba se representa en **exactamente un cuadro**\n",
    "- Es una matriz de 2x2 porque hay **2 clases de respuesta**\n",
    "- El formato que se muestra aquí **no** es universal"
   ]
  },
  {
   "cell_type": "markdown",
   "metadata": {
    "colab_type": "text",
    "id": "IG7YQMoP53_k"
   },
   "source": [
    "**Basic terminology**\n",
    "\n",
    "- **True Positives (TP):** we *correctly* predicted that they *do* have diabetes\n",
    "- **True Negatives (TN):** we *correctly* predicted that they *don't* have diabetes\n",
    "- **False Positives (FP):** we *incorrectly* predicted that they *do* have diabetes (a \"Type I error\")\n",
    "- **False Negatives (FN):** we *incorrectly* predicted that they *don't* have diabetes (a \"Type II error\")\n",
    "\n",
    "**Terminología básica**\n",
    "\n",
    "- **Positivos verdaderos (TP):** nosotros *correctamente* predijimos que *tienen* diabetes\n",
    "- **Verdaderos negativos (TN):** nosotros *correctamente* predijimos que *no* tienen diabetes\n",
    "- **Positivos falsos (FP):** nosotros *incorrectamente* predijimos que *tienen* diabetes (un \"error tipo I\")\n",
    "- **Falsos negativos (FN):** nosotros *incorrectamente* predijimos que *no* tienen diabetes (un \"error tipo II\")"
   ]
  },
  {
   "cell_type": "code",
   "execution_count": 48,
   "metadata": {
    "colab": {},
    "colab_type": "code",
    "id": "2i8sml4y53_l"
   },
   "outputs": [
    {
     "name": "stdout",
     "output_type": "stream",
     "text": [
      "True: [1 0 0 1 0 0 1 1 0 0 1 1 0 0 0 0 1 0 0 0 1 1 0 0 0]\n",
      "Pred: [0 0 0 0 0 0 0 1 0 1 0 1 0 0 0 0 0 0 0 0 0 0 0 0 0]\n"
     ]
    }
   ],
   "source": [
    "# Imprime las primeras 25 respuestas verdaderas y pronosticadas\n",
    "print('True:', y_test.values[0:25])\n",
    "print('Pred:', y_pred_class[0:25])"
   ]
  },
  {
   "cell_type": "code",
   "execution_count": 49,
   "metadata": {
    "colab": {},
    "colab_type": "code",
    "id": "35zQw0gO53_n"
   },
   "outputs": [],
   "source": [
    "# Salvar matriz y separar en cuatro valores\n",
    "# TODO: Especificar método para obtener la Matriz de Confusión\n",
    "confusion = metrics.confusion_matrix(y_test, y_pred_class)\n",
    "TP = confusion[1, 1]\n",
    "TN = confusion[0, 0]\n",
    "FP = confusion[0, 1]\n",
    "FN = confusion[1, 0]"
   ]
  },
  {
   "cell_type": "markdown",
   "metadata": {
    "colab_type": "text",
    "id": "LX0rBMv853_r"
   },
   "source": [
    "![Large confusion matrix](https://github.com/mpfrush/Python-Scikit-Learn-Exercises/raw/0e26828604b503f0d66a5966de1dce57e5e88c2a/images/09_confusion_matrix_2.png)"
   ]
  },
  {
   "cell_type": "markdown",
   "metadata": {
    "colab_type": "text",
    "id": "pe_M5RyY53_r"
   },
   "source": [
    "## Métricas computadas desde una matriz de confusión"
   ]
  },
  {
   "cell_type": "markdown",
   "metadata": {
    "colab_type": "text",
    "id": "Renv_gEP53_t"
   },
   "source": [
    "**Precisión de clasificación:** En general, ¿con qué frecuencia es correcto el clasificador?"
   ]
  },
  {
   "cell_type": "code",
   "execution_count": 50,
   "metadata": {
    "colab": {},
    "colab_type": "code",
    "id": "QottVW6F53_u"
   },
   "outputs": [
    {
     "name": "stdout",
     "output_type": "stream",
     "text": [
      "0.6927083333333334\n",
      "0.6927083333333334\n"
     ]
    }
   ],
   "source": [
    "print((TP + TN) / float(TP + TN + FP + FN))\n",
    "\n",
    "# TODO: Especificar el método para calcular precisión de clasificación de Sklearn \n",
    "print(metrics.accuracy_score(y_test, y_pred_class))"
   ]
  },
  {
   "cell_type": "markdown",
   "metadata": {
    "colab_type": "text",
    "id": "kLi8F_sB53_w"
   },
   "source": [
    "**Error de clasificación:** En general, ¿con qué frecuencia es incorrecto el clasificador?\n",
    "\n",
    "- También conocido como \"Tasa de clasificación errónea o Misclassification Rate\""
   ]
  },
  {
   "cell_type": "code",
   "execution_count": 51,
   "metadata": {
    "colab": {},
    "colab_type": "code",
    "id": "CQKdpIaD53_w"
   },
   "outputs": [
    {
     "name": "stdout",
     "output_type": "stream",
     "text": [
      "0.3072916666666667\n",
      "0.30729166666666663\n"
     ]
    }
   ],
   "source": [
    "print((FP + FN) / float(TP + TN + FP + FN))\n",
    "\n",
    "# TODO: Especificar el método para calcular precisión de clasificación de Sklearn \n",
    "print(1 - metrics.accuracy_score(y_test, y_pred_class))"
   ]
  },
  {
   "cell_type": "markdown",
   "metadata": {
    "colab_type": "text",
    "id": "gEPGm8Bo53_y"
   },
   "source": [
    "**Sensibilidad:** Cuando el valor real es positivo, ¿con qué frecuencia es correcta la predicción?\n",
    "\n",
    "- ¿Cuán \"sensible\" es el clasificador para detectar instancias positivas?\n",
    "- También conocido como \"Tasa Positiva Verdadera\" o \"Recuperación\" o \"True Positive Rate\" o \"Recall\""
   ]
  },
  {
   "cell_type": "code",
   "execution_count": 52,
   "metadata": {
    "colab": {},
    "colab_type": "code",
    "id": "3YMAwtEm53_z"
   },
   "outputs": [
    {
     "name": "stdout",
     "output_type": "stream",
     "text": [
      "0.24193548387096775\n",
      "0.24193548387096775\n"
     ]
    }
   ],
   "source": [
    "print(TP / float(TP + FN))\n",
    "print(metrics.recall_score(y_test, y_pred_class))"
   ]
  },
  {
   "cell_type": "markdown",
   "metadata": {
    "colab_type": "text",
    "id": "LyH-WYmY53_1"
   },
   "source": [
    "**Especificidad:** Cuando el valor real es negativo, ¿con qué frecuencia es correcta la predicción?\n",
    "\n",
    "- ¿Cuán \"específico\" (o \"selectivo\") es el clasificador al predecir instancias positivas?"
   ]
  },
  {
   "cell_type": "code",
   "execution_count": 53,
   "metadata": {
    "colab": {},
    "colab_type": "code",
    "id": "8OqZ-17Y53_2"
   },
   "outputs": [
    {
     "name": "stdout",
     "output_type": "stream",
     "text": [
      "0.9076923076923077\n"
     ]
    }
   ],
   "source": [
    "print(TN / float(TN + FP))"
   ]
  },
  {
   "cell_type": "markdown",
   "metadata": {
    "colab_type": "text",
    "id": "u066rcId53_4"
   },
   "source": [
    "**Tasa de falso positivo:** Cuando el valor real es negativo, ¿con qué frecuencia es incorrecta la predicción?"
   ]
  },
  {
   "cell_type": "code",
   "execution_count": 54,
   "metadata": {
    "colab": {},
    "colab_type": "code",
    "id": "GCE7VlRB53_4"
   },
   "outputs": [
    {
     "name": "stdout",
     "output_type": "stream",
     "text": [
      "0.09230769230769231\n"
     ]
    }
   ],
   "source": [
    "print(FP / float(TN + FP))"
   ]
  },
  {
   "cell_type": "markdown",
   "metadata": {
    "colab_type": "text",
    "id": "pIUVaZ0P53_6"
   },
   "source": [
    "**Precision (en ingles):** Cuando se predice un valor positivo, ¿con qué frecuencia es correcta la predicción?\n",
    "\n",
    "- ¿Cuán \"preciso\" es el clasificador al predecir instancias positivas?"
   ]
  },
  {
   "cell_type": "code",
   "execution_count": 55,
   "metadata": {
    "colab": {},
    "colab_type": "code",
    "id": "9ANgZcO_53_6"
   },
   "outputs": [
    {
     "name": "stdout",
     "output_type": "stream",
     "text": [
      "0.5555555555555556\n",
      "0.5555555555555556\n"
     ]
    }
   ],
   "source": [
    "print(TP / float(TP + FP))\n",
    "print(metrics.precision_score(y_test, y_pred_class))"
   ]
  },
  {
   "cell_type": "markdown",
   "metadata": {
    "colab_type": "text",
    "id": "h1CLMLUg53_8"
   },
   "source": [
    "Se pueden calcular muchas otras métricas: puntaje F1, coeficiente de correlación Matthews, etc."
   ]
  },
  {
   "cell_type": "markdown",
   "metadata": {
    "colab_type": "text",
    "id": "9wGJw8X653_8"
   },
   "source": [
    "**Conclusión:**\n",
    "\n",
    "- La matriz de confusión le brinda una **imagen más completa** del rendimiento de su clasificador\n",
    "- También le permite calcular varias **métricas de clasificación**, y estas métricas pueden guiar su selección de modelo\n",
    "\n",
    "** ¿En qué métricas debes concentrarte? **\n",
    "\n",
    "- La elección de la métrica depende de su **objetivo comercial**\n",
    "- **Filtro de spam** (la clase positiva es \"spam\"): optimice para **precision (ingles) o especificidad** porque los falsos negativos (el spam va a la bandeja de entrada) son más aceptables que los falsos positivos (el spam captura el no spam) filtrar\n",
    "- **Detector de transacciones fraudulentas** (la clase positiva es \"fraude\"): Optimice para **sensibilidad** porque los falsos positivos (transacciones normales que se marcan como posibles fraudes) son más aceptables que los falsos negativos (transacciones fraudulentas que no se detectan )"
   ]
  }
 ],
 "metadata": {
  "colab": {
   "collapsed_sections": [],
   "name": "TODO Evaluando métricas de Clasificación.ipynb",
   "provenance": [],
   "version": "0.3.2"
  },
  "kernelspec": {
   "display_name": "Python 3",
   "language": "python",
   "name": "python3"
  },
  "language_info": {
   "codemirror_mode": {
    "name": "ipython",
    "version": 3
   },
   "file_extension": ".py",
   "mimetype": "text/x-python",
   "name": "python",
   "nbconvert_exporter": "python",
   "pygments_lexer": "ipython3",
   "version": "3.7.3"
  }
 },
 "nbformat": 4,
 "nbformat_minor": 1
}
